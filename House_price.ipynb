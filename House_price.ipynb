{
 "cells": [
  {
   "cell_type": "code",
   "execution_count": 1,
   "metadata": {},
   "outputs": [],
   "source": [
    "import pandas as pd\n",
    "import numpy as np\n",
    "import matplotlib.pyplot as plt\n",
    "import seaborn as sns"
   ]
  },
  {
   "cell_type": "code",
   "execution_count": 2,
   "metadata": {},
   "outputs": [
    {
     "data": {
      "text/html": [
       "<div>\n",
       "<style scoped>\n",
       "    .dataframe tbody tr th:only-of-type {\n",
       "        vertical-align: middle;\n",
       "    }\n",
       "\n",
       "    .dataframe tbody tr th {\n",
       "        vertical-align: top;\n",
       "    }\n",
       "\n",
       "    .dataframe thead th {\n",
       "        text-align: right;\n",
       "    }\n",
       "</style>\n",
       "<table border=\"1\" class=\"dataframe\">\n",
       "  <thead>\n",
       "    <tr style=\"text-align: right;\">\n",
       "      <th></th>\n",
       "      <th>Id</th>\n",
       "      <th>LotFrontage</th>\n",
       "      <th>LotArea</th>\n",
       "      <th>Alley</th>\n",
       "      <th>MasVnrArea</th>\n",
       "      <th>1stFlrSF</th>\n",
       "      <th>2ndFlrSF</th>\n",
       "      <th>GrLivArea</th>\n",
       "      <th>GarageType</th>\n",
       "      <th>GarageArea</th>\n",
       "      <th>SalePrice</th>\n",
       "    </tr>\n",
       "  </thead>\n",
       "  <tbody>\n",
       "    <tr>\n",
       "      <th>0</th>\n",
       "      <td>1</td>\n",
       "      <td>65.0</td>\n",
       "      <td>8450</td>\n",
       "      <td>NaN</td>\n",
       "      <td>196.0</td>\n",
       "      <td>856</td>\n",
       "      <td>854</td>\n",
       "      <td>1710</td>\n",
       "      <td>Attchd</td>\n",
       "      <td>548</td>\n",
       "      <td>208500</td>\n",
       "    </tr>\n",
       "    <tr>\n",
       "      <th>1</th>\n",
       "      <td>2</td>\n",
       "      <td>80.0</td>\n",
       "      <td>9600</td>\n",
       "      <td>NaN</td>\n",
       "      <td>0.0</td>\n",
       "      <td>1262</td>\n",
       "      <td>0</td>\n",
       "      <td>1262</td>\n",
       "      <td>Attchd</td>\n",
       "      <td>460</td>\n",
       "      <td>181500</td>\n",
       "    </tr>\n",
       "    <tr>\n",
       "      <th>2</th>\n",
       "      <td>3</td>\n",
       "      <td>68.0</td>\n",
       "      <td>11250</td>\n",
       "      <td>NaN</td>\n",
       "      <td>162.0</td>\n",
       "      <td>920</td>\n",
       "      <td>866</td>\n",
       "      <td>1786</td>\n",
       "      <td>Attchd</td>\n",
       "      <td>608</td>\n",
       "      <td>223500</td>\n",
       "    </tr>\n",
       "    <tr>\n",
       "      <th>3</th>\n",
       "      <td>4</td>\n",
       "      <td>60.0</td>\n",
       "      <td>9550</td>\n",
       "      <td>NaN</td>\n",
       "      <td>0.0</td>\n",
       "      <td>961</td>\n",
       "      <td>756</td>\n",
       "      <td>1717</td>\n",
       "      <td>Detchd</td>\n",
       "      <td>642</td>\n",
       "      <td>140000</td>\n",
       "    </tr>\n",
       "    <tr>\n",
       "      <th>4</th>\n",
       "      <td>5</td>\n",
       "      <td>84.0</td>\n",
       "      <td>14260</td>\n",
       "      <td>NaN</td>\n",
       "      <td>350.0</td>\n",
       "      <td>1145</td>\n",
       "      <td>1053</td>\n",
       "      <td>2198</td>\n",
       "      <td>Attchd</td>\n",
       "      <td>836</td>\n",
       "      <td>250000</td>\n",
       "    </tr>\n",
       "  </tbody>\n",
       "</table>\n",
       "</div>"
      ],
      "text/plain": [
       "   Id  LotFrontage  LotArea Alley  MasVnrArea  1stFlrSF  2ndFlrSF  GrLivArea  \\\n",
       "0   1         65.0     8450   NaN       196.0       856       854       1710   \n",
       "1   2         80.0     9600   NaN         0.0      1262         0       1262   \n",
       "2   3         68.0    11250   NaN       162.0       920       866       1786   \n",
       "3   4         60.0     9550   NaN         0.0       961       756       1717   \n",
       "4   5         84.0    14260   NaN       350.0      1145      1053       2198   \n",
       "\n",
       "  GarageType  GarageArea  SalePrice  \n",
       "0     Attchd         548     208500  \n",
       "1     Attchd         460     181500  \n",
       "2     Attchd         608     223500  \n",
       "3     Detchd         642     140000  \n",
       "4     Attchd         836     250000  "
      ]
     },
     "execution_count": 2,
     "metadata": {},
     "output_type": "execute_result"
    }
   ],
   "source": [
    "df=pd.read_csv(r'C:\\Users\\Vilas\\Untitled Folder\\House Price.csv')\n",
    "df.head()"
   ]
  },
  {
   "cell_type": "code",
   "execution_count": 3,
   "metadata": {},
   "outputs": [
    {
     "name": "stdout",
     "output_type": "stream",
     "text": [
      "<class 'pandas.core.frame.DataFrame'>\n",
      "RangeIndex: 1460 entries, 0 to 1459\n",
      "Data columns (total 11 columns):\n",
      " #   Column       Non-Null Count  Dtype  \n",
      "---  ------       --------------  -----  \n",
      " 0   Id           1460 non-null   int64  \n",
      " 1   LotFrontage  1201 non-null   float64\n",
      " 2   LotArea      1460 non-null   int64  \n",
      " 3   Alley        91 non-null     object \n",
      " 4   MasVnrArea   1452 non-null   float64\n",
      " 5   1stFlrSF     1460 non-null   int64  \n",
      " 6   2ndFlrSF     1460 non-null   int64  \n",
      " 7   GrLivArea    1460 non-null   int64  \n",
      " 8   GarageType   1379 non-null   object \n",
      " 9   GarageArea   1460 non-null   int64  \n",
      " 10  SalePrice    1460 non-null   int64  \n",
      "dtypes: float64(2), int64(7), object(2)\n",
      "memory usage: 125.6+ KB\n"
     ]
    }
   ],
   "source": [
    "df.info()"
   ]
  },
  {
   "cell_type": "code",
   "execution_count": 4,
   "metadata": {},
   "outputs": [
    {
     "data": {
      "text/plain": [
       "Id                0\n",
       "LotFrontage     259\n",
       "LotArea           0\n",
       "Alley          1369\n",
       "MasVnrArea        8\n",
       "1stFlrSF          0\n",
       "2ndFlrSF          0\n",
       "GrLivArea         0\n",
       "GarageType       81\n",
       "GarageArea        0\n",
       "SalePrice         0\n",
       "dtype: int64"
      ]
     },
     "execution_count": 4,
     "metadata": {},
     "output_type": "execute_result"
    }
   ],
   "source": [
    "df.isnull().sum()"
   ]
  },
  {
   "cell_type": "code",
   "execution_count": 5,
   "metadata": {},
   "outputs": [
    {
     "data": {
      "text/plain": [
       "array([ 65.,  80.,  68.,  60.,  84.,  85.,  75.,  nan,  51.,  50.,  70.,\n",
       "        91.,  72.,  66., 101.,  57.,  44., 110.,  98.,  47., 108., 112.,\n",
       "        74., 115.,  61.,  48.,  33.,  52., 100.,  24.,  89.,  63.,  76.,\n",
       "        81.,  95.,  69.,  21.,  32.,  78., 121., 122.,  40., 105.,  73.,\n",
       "        77.,  64.,  94.,  34.,  90.,  55.,  88.,  82.,  71., 120., 107.,\n",
       "        92., 134.,  62.,  86., 141.,  97.,  54.,  41.,  79., 174.,  99.,\n",
       "        67.,  83.,  43., 103.,  93.,  30., 129., 140.,  35.,  37., 118.,\n",
       "        87., 116., 150., 111.,  49.,  96.,  59.,  36.,  56., 102.,  58.,\n",
       "        38., 109., 130.,  53., 137.,  45., 106., 104.,  42.,  39., 144.,\n",
       "       114., 128., 149., 313., 168., 182., 138., 160., 152., 124., 153.,\n",
       "        46.])"
      ]
     },
     "execution_count": 5,
     "metadata": {},
     "output_type": "execute_result"
    }
   ],
   "source": [
    "df['LotFrontage'].unique()"
   ]
  },
  {
   "cell_type": "code",
   "execution_count": 6,
   "metadata": {},
   "outputs": [
    {
     "data": {
      "text/plain": [
       "array([nan, 'Grvl', 'Pave'], dtype=object)"
      ]
     },
     "execution_count": 6,
     "metadata": {},
     "output_type": "execute_result"
    }
   ],
   "source": [
    "df['Alley'].unique()"
   ]
  },
  {
   "cell_type": "code",
   "execution_count": 7,
   "metadata": {},
   "outputs": [
    {
     "data": {
      "text/plain": [
       "array(['Attchd', 'Detchd', 'BuiltIn', 'CarPort', nan, 'Basment', '2Types'],\n",
       "      dtype=object)"
      ]
     },
     "execution_count": 7,
     "metadata": {},
     "output_type": "execute_result"
    }
   ],
   "source": [
    "df['GarageType'].unique()"
   ]
  },
  {
   "cell_type": "code",
   "execution_count": 8,
   "metadata": {},
   "outputs": [
    {
     "data": {
      "text/plain": [
       "70.04995836802665"
      ]
     },
     "execution_count": 8,
     "metadata": {},
     "output_type": "execute_result"
    }
   ],
   "source": [
    "df['LotFrontage'].mean()"
   ]
  },
  {
   "cell_type": "code",
   "execution_count": 9,
   "metadata": {},
   "outputs": [],
   "source": [
    "df['LotFrontage']=df['LotFrontage'].fillna(df['LotFrontage'].mean())"
   ]
  },
  {
   "cell_type": "code",
   "execution_count": 10,
   "metadata": {},
   "outputs": [
    {
     "data": {
      "text/html": [
       "<div>\n",
       "<style scoped>\n",
       "    .dataframe tbody tr th:only-of-type {\n",
       "        vertical-align: middle;\n",
       "    }\n",
       "\n",
       "    .dataframe tbody tr th {\n",
       "        vertical-align: top;\n",
       "    }\n",
       "\n",
       "    .dataframe thead th {\n",
       "        text-align: right;\n",
       "    }\n",
       "</style>\n",
       "<table border=\"1\" class=\"dataframe\">\n",
       "  <thead>\n",
       "    <tr style=\"text-align: right;\">\n",
       "      <th></th>\n",
       "      <th>Id</th>\n",
       "      <th>LotFrontage</th>\n",
       "      <th>LotArea</th>\n",
       "      <th>Alley</th>\n",
       "      <th>MasVnrArea</th>\n",
       "      <th>1stFlrSF</th>\n",
       "      <th>2ndFlrSF</th>\n",
       "      <th>GrLivArea</th>\n",
       "      <th>GarageType</th>\n",
       "      <th>GarageArea</th>\n",
       "      <th>SalePrice</th>\n",
       "    </tr>\n",
       "  </thead>\n",
       "  <tbody>\n",
       "    <tr>\n",
       "      <th>0</th>\n",
       "      <td>1</td>\n",
       "      <td>65.0</td>\n",
       "      <td>8450</td>\n",
       "      <td>NaN</td>\n",
       "      <td>196.0</td>\n",
       "      <td>856</td>\n",
       "      <td>854</td>\n",
       "      <td>1710</td>\n",
       "      <td>Attchd</td>\n",
       "      <td>548</td>\n",
       "      <td>208500</td>\n",
       "    </tr>\n",
       "    <tr>\n",
       "      <th>1</th>\n",
       "      <td>2</td>\n",
       "      <td>80.0</td>\n",
       "      <td>9600</td>\n",
       "      <td>NaN</td>\n",
       "      <td>0.0</td>\n",
       "      <td>1262</td>\n",
       "      <td>0</td>\n",
       "      <td>1262</td>\n",
       "      <td>Attchd</td>\n",
       "      <td>460</td>\n",
       "      <td>181500</td>\n",
       "    </tr>\n",
       "    <tr>\n",
       "      <th>2</th>\n",
       "      <td>3</td>\n",
       "      <td>68.0</td>\n",
       "      <td>11250</td>\n",
       "      <td>NaN</td>\n",
       "      <td>162.0</td>\n",
       "      <td>920</td>\n",
       "      <td>866</td>\n",
       "      <td>1786</td>\n",
       "      <td>Attchd</td>\n",
       "      <td>608</td>\n",
       "      <td>223500</td>\n",
       "    </tr>\n",
       "    <tr>\n",
       "      <th>3</th>\n",
       "      <td>4</td>\n",
       "      <td>60.0</td>\n",
       "      <td>9550</td>\n",
       "      <td>NaN</td>\n",
       "      <td>0.0</td>\n",
       "      <td>961</td>\n",
       "      <td>756</td>\n",
       "      <td>1717</td>\n",
       "      <td>Detchd</td>\n",
       "      <td>642</td>\n",
       "      <td>140000</td>\n",
       "    </tr>\n",
       "    <tr>\n",
       "      <th>4</th>\n",
       "      <td>5</td>\n",
       "      <td>84.0</td>\n",
       "      <td>14260</td>\n",
       "      <td>NaN</td>\n",
       "      <td>350.0</td>\n",
       "      <td>1145</td>\n",
       "      <td>1053</td>\n",
       "      <td>2198</td>\n",
       "      <td>Attchd</td>\n",
       "      <td>836</td>\n",
       "      <td>250000</td>\n",
       "    </tr>\n",
       "    <tr>\n",
       "      <th>...</th>\n",
       "      <td>...</td>\n",
       "      <td>...</td>\n",
       "      <td>...</td>\n",
       "      <td>...</td>\n",
       "      <td>...</td>\n",
       "      <td>...</td>\n",
       "      <td>...</td>\n",
       "      <td>...</td>\n",
       "      <td>...</td>\n",
       "      <td>...</td>\n",
       "      <td>...</td>\n",
       "    </tr>\n",
       "    <tr>\n",
       "      <th>1455</th>\n",
       "      <td>1456</td>\n",
       "      <td>62.0</td>\n",
       "      <td>7917</td>\n",
       "      <td>NaN</td>\n",
       "      <td>0.0</td>\n",
       "      <td>953</td>\n",
       "      <td>694</td>\n",
       "      <td>1647</td>\n",
       "      <td>Attchd</td>\n",
       "      <td>460</td>\n",
       "      <td>175000</td>\n",
       "    </tr>\n",
       "    <tr>\n",
       "      <th>1456</th>\n",
       "      <td>1457</td>\n",
       "      <td>85.0</td>\n",
       "      <td>13175</td>\n",
       "      <td>NaN</td>\n",
       "      <td>119.0</td>\n",
       "      <td>2073</td>\n",
       "      <td>0</td>\n",
       "      <td>2073</td>\n",
       "      <td>Attchd</td>\n",
       "      <td>500</td>\n",
       "      <td>210000</td>\n",
       "    </tr>\n",
       "    <tr>\n",
       "      <th>1457</th>\n",
       "      <td>1458</td>\n",
       "      <td>66.0</td>\n",
       "      <td>9042</td>\n",
       "      <td>NaN</td>\n",
       "      <td>0.0</td>\n",
       "      <td>1188</td>\n",
       "      <td>1152</td>\n",
       "      <td>2340</td>\n",
       "      <td>Attchd</td>\n",
       "      <td>252</td>\n",
       "      <td>266500</td>\n",
       "    </tr>\n",
       "    <tr>\n",
       "      <th>1458</th>\n",
       "      <td>1459</td>\n",
       "      <td>68.0</td>\n",
       "      <td>9717</td>\n",
       "      <td>NaN</td>\n",
       "      <td>0.0</td>\n",
       "      <td>1078</td>\n",
       "      <td>0</td>\n",
       "      <td>1078</td>\n",
       "      <td>Attchd</td>\n",
       "      <td>240</td>\n",
       "      <td>142125</td>\n",
       "    </tr>\n",
       "    <tr>\n",
       "      <th>1459</th>\n",
       "      <td>1460</td>\n",
       "      <td>75.0</td>\n",
       "      <td>9937</td>\n",
       "      <td>NaN</td>\n",
       "      <td>0.0</td>\n",
       "      <td>1256</td>\n",
       "      <td>0</td>\n",
       "      <td>1256</td>\n",
       "      <td>Attchd</td>\n",
       "      <td>276</td>\n",
       "      <td>147500</td>\n",
       "    </tr>\n",
       "  </tbody>\n",
       "</table>\n",
       "<p>1460 rows × 11 columns</p>\n",
       "</div>"
      ],
      "text/plain": [
       "        Id  LotFrontage  LotArea Alley  MasVnrArea  1stFlrSF  2ndFlrSF  \\\n",
       "0        1         65.0     8450   NaN       196.0       856       854   \n",
       "1        2         80.0     9600   NaN         0.0      1262         0   \n",
       "2        3         68.0    11250   NaN       162.0       920       866   \n",
       "3        4         60.0     9550   NaN         0.0       961       756   \n",
       "4        5         84.0    14260   NaN       350.0      1145      1053   \n",
       "...    ...          ...      ...   ...         ...       ...       ...   \n",
       "1455  1456         62.0     7917   NaN         0.0       953       694   \n",
       "1456  1457         85.0    13175   NaN       119.0      2073         0   \n",
       "1457  1458         66.0     9042   NaN         0.0      1188      1152   \n",
       "1458  1459         68.0     9717   NaN         0.0      1078         0   \n",
       "1459  1460         75.0     9937   NaN         0.0      1256         0   \n",
       "\n",
       "      GrLivArea GarageType  GarageArea  SalePrice  \n",
       "0          1710     Attchd         548     208500  \n",
       "1          1262     Attchd         460     181500  \n",
       "2          1786     Attchd         608     223500  \n",
       "3          1717     Detchd         642     140000  \n",
       "4          2198     Attchd         836     250000  \n",
       "...         ...        ...         ...        ...  \n",
       "1455       1647     Attchd         460     175000  \n",
       "1456       2073     Attchd         500     210000  \n",
       "1457       2340     Attchd         252     266500  \n",
       "1458       1078     Attchd         240     142125  \n",
       "1459       1256     Attchd         276     147500  \n",
       "\n",
       "[1460 rows x 11 columns]"
      ]
     },
     "execution_count": 10,
     "metadata": {},
     "output_type": "execute_result"
    }
   ],
   "source": [
    "new_df=df.fillna({\n",
    "    'GarageType' :'No garage',\n",
    "})\n",
    "new_df"
   ]
  },
  {
   "cell_type": "code",
   "execution_count": 11,
   "metadata": {},
   "outputs": [
    {
     "data": {
      "text/plain": [
       "array(['Attchd', 'Detchd', 'BuiltIn', 'CarPort', 'No garage', 'Basment',\n",
       "       '2Types'], dtype=object)"
      ]
     },
     "execution_count": 11,
     "metadata": {},
     "output_type": "execute_result"
    }
   ],
   "source": [
    "new_df['GarageType'].unique()"
   ]
  },
  {
   "cell_type": "code",
   "execution_count": 13,
   "metadata": {},
   "outputs": [
    {
     "ename": "KeyError",
     "evalue": "\"['Alley'] not found in axis\"",
     "output_type": "error",
     "traceback": [
      "\u001b[1;31m---------------------------------------------------------------------------\u001b[0m",
      "\u001b[1;31mKeyError\u001b[0m                                  Traceback (most recent call last)",
      "\u001b[1;32m<ipython-input-13-a2536319e758>\u001b[0m in \u001b[0;36m<module>\u001b[1;34m\u001b[0m\n\u001b[1;32m----> 1\u001b[1;33m \u001b[0mnew_df\u001b[0m\u001b[1;33m.\u001b[0m\u001b[0mdrop\u001b[0m\u001b[1;33m(\u001b[0m\u001b[1;33m[\u001b[0m\u001b[1;34m'Alley'\u001b[0m\u001b[1;33m]\u001b[0m\u001b[1;33m,\u001b[0m\u001b[0maxis\u001b[0m\u001b[1;33m=\u001b[0m\u001b[1;36m1\u001b[0m\u001b[1;33m,\u001b[0m\u001b[0minplace\u001b[0m\u001b[1;33m=\u001b[0m\u001b[1;32mTrue\u001b[0m\u001b[1;33m)\u001b[0m\u001b[1;33m\u001b[0m\u001b[1;33m\u001b[0m\u001b[0m\n\u001b[0m\u001b[0;32m      2\u001b[0m \u001b[0mnew_df\u001b[0m\u001b[1;33m.\u001b[0m\u001b[0mdrop\u001b[0m\u001b[1;33m(\u001b[0m\u001b[1;33m[\u001b[0m\u001b[1;34m'MasVnrArea'\u001b[0m\u001b[1;33m]\u001b[0m\u001b[1;33m,\u001b[0m\u001b[0maxis\u001b[0m\u001b[1;33m=\u001b[0m\u001b[1;36m1\u001b[0m\u001b[1;33m,\u001b[0m\u001b[0minplace\u001b[0m\u001b[1;33m=\u001b[0m\u001b[1;32mTrue\u001b[0m\u001b[1;33m)\u001b[0m\u001b[1;33m\u001b[0m\u001b[1;33m\u001b[0m\u001b[0m\n\u001b[0;32m      3\u001b[0m \u001b[0mnew_df\u001b[0m\u001b[1;33m.\u001b[0m\u001b[0mdrop\u001b[0m\u001b[1;33m(\u001b[0m\u001b[1;33m[\u001b[0m\u001b[1;34m'MasVnrArea'\u001b[0m\u001b[1;33m]\u001b[0m\u001b[1;33m,\u001b[0m\u001b[0maxis\u001b[0m\u001b[1;33m=\u001b[0m\u001b[1;36m1\u001b[0m\u001b[1;33m,\u001b[0m\u001b[0minplace\u001b[0m\u001b[1;33m=\u001b[0m\u001b[1;32mTrue\u001b[0m\u001b[1;33m)\u001b[0m\u001b[1;33m\u001b[0m\u001b[1;33m\u001b[0m\u001b[0m\n",
      "\u001b[1;32mC:\\ProgramData\\Anaconda3\\lib\\site-packages\\pandas\\core\\frame.py\u001b[0m in \u001b[0;36mdrop\u001b[1;34m(self, labels, axis, index, columns, level, inplace, errors)\u001b[0m\n\u001b[0;32m   4161\u001b[0m                 \u001b[0mweight\u001b[0m  \u001b[1;36m1.0\u001b[0m     \u001b[1;36m0.8\u001b[0m\u001b[1;33m\u001b[0m\u001b[1;33m\u001b[0m\u001b[0m\n\u001b[0;32m   4162\u001b[0m         \"\"\"\n\u001b[1;32m-> 4163\u001b[1;33m         return super().drop(\n\u001b[0m\u001b[0;32m   4164\u001b[0m             \u001b[0mlabels\u001b[0m\u001b[1;33m=\u001b[0m\u001b[0mlabels\u001b[0m\u001b[1;33m,\u001b[0m\u001b[1;33m\u001b[0m\u001b[1;33m\u001b[0m\u001b[0m\n\u001b[0;32m   4165\u001b[0m             \u001b[0maxis\u001b[0m\u001b[1;33m=\u001b[0m\u001b[0maxis\u001b[0m\u001b[1;33m,\u001b[0m\u001b[1;33m\u001b[0m\u001b[1;33m\u001b[0m\u001b[0m\n",
      "\u001b[1;32mC:\\ProgramData\\Anaconda3\\lib\\site-packages\\pandas\\core\\generic.py\u001b[0m in \u001b[0;36mdrop\u001b[1;34m(self, labels, axis, index, columns, level, inplace, errors)\u001b[0m\n\u001b[0;32m   3885\u001b[0m         \u001b[1;32mfor\u001b[0m \u001b[0maxis\u001b[0m\u001b[1;33m,\u001b[0m \u001b[0mlabels\u001b[0m \u001b[1;32min\u001b[0m \u001b[0maxes\u001b[0m\u001b[1;33m.\u001b[0m\u001b[0mitems\u001b[0m\u001b[1;33m(\u001b[0m\u001b[1;33m)\u001b[0m\u001b[1;33m:\u001b[0m\u001b[1;33m\u001b[0m\u001b[1;33m\u001b[0m\u001b[0m\n\u001b[0;32m   3886\u001b[0m             \u001b[1;32mif\u001b[0m \u001b[0mlabels\u001b[0m \u001b[1;32mis\u001b[0m \u001b[1;32mnot\u001b[0m \u001b[1;32mNone\u001b[0m\u001b[1;33m:\u001b[0m\u001b[1;33m\u001b[0m\u001b[1;33m\u001b[0m\u001b[0m\n\u001b[1;32m-> 3887\u001b[1;33m                 \u001b[0mobj\u001b[0m \u001b[1;33m=\u001b[0m \u001b[0mobj\u001b[0m\u001b[1;33m.\u001b[0m\u001b[0m_drop_axis\u001b[0m\u001b[1;33m(\u001b[0m\u001b[0mlabels\u001b[0m\u001b[1;33m,\u001b[0m \u001b[0maxis\u001b[0m\u001b[1;33m,\u001b[0m \u001b[0mlevel\u001b[0m\u001b[1;33m=\u001b[0m\u001b[0mlevel\u001b[0m\u001b[1;33m,\u001b[0m \u001b[0merrors\u001b[0m\u001b[1;33m=\u001b[0m\u001b[0merrors\u001b[0m\u001b[1;33m)\u001b[0m\u001b[1;33m\u001b[0m\u001b[1;33m\u001b[0m\u001b[0m\n\u001b[0m\u001b[0;32m   3888\u001b[0m \u001b[1;33m\u001b[0m\u001b[0m\n\u001b[0;32m   3889\u001b[0m         \u001b[1;32mif\u001b[0m \u001b[0minplace\u001b[0m\u001b[1;33m:\u001b[0m\u001b[1;33m\u001b[0m\u001b[1;33m\u001b[0m\u001b[0m\n",
      "\u001b[1;32mC:\\ProgramData\\Anaconda3\\lib\\site-packages\\pandas\\core\\generic.py\u001b[0m in \u001b[0;36m_drop_axis\u001b[1;34m(self, labels, axis, level, errors)\u001b[0m\n\u001b[0;32m   3919\u001b[0m                 \u001b[0mnew_axis\u001b[0m \u001b[1;33m=\u001b[0m \u001b[0maxis\u001b[0m\u001b[1;33m.\u001b[0m\u001b[0mdrop\u001b[0m\u001b[1;33m(\u001b[0m\u001b[0mlabels\u001b[0m\u001b[1;33m,\u001b[0m \u001b[0mlevel\u001b[0m\u001b[1;33m=\u001b[0m\u001b[0mlevel\u001b[0m\u001b[1;33m,\u001b[0m \u001b[0merrors\u001b[0m\u001b[1;33m=\u001b[0m\u001b[0merrors\u001b[0m\u001b[1;33m)\u001b[0m\u001b[1;33m\u001b[0m\u001b[1;33m\u001b[0m\u001b[0m\n\u001b[0;32m   3920\u001b[0m             \u001b[1;32melse\u001b[0m\u001b[1;33m:\u001b[0m\u001b[1;33m\u001b[0m\u001b[1;33m\u001b[0m\u001b[0m\n\u001b[1;32m-> 3921\u001b[1;33m                 \u001b[0mnew_axis\u001b[0m \u001b[1;33m=\u001b[0m \u001b[0maxis\u001b[0m\u001b[1;33m.\u001b[0m\u001b[0mdrop\u001b[0m\u001b[1;33m(\u001b[0m\u001b[0mlabels\u001b[0m\u001b[1;33m,\u001b[0m \u001b[0merrors\u001b[0m\u001b[1;33m=\u001b[0m\u001b[0merrors\u001b[0m\u001b[1;33m)\u001b[0m\u001b[1;33m\u001b[0m\u001b[1;33m\u001b[0m\u001b[0m\n\u001b[0m\u001b[0;32m   3922\u001b[0m             \u001b[0mresult\u001b[0m \u001b[1;33m=\u001b[0m \u001b[0mself\u001b[0m\u001b[1;33m.\u001b[0m\u001b[0mreindex\u001b[0m\u001b[1;33m(\u001b[0m\u001b[1;33m**\u001b[0m\u001b[1;33m{\u001b[0m\u001b[0maxis_name\u001b[0m\u001b[1;33m:\u001b[0m \u001b[0mnew_axis\u001b[0m\u001b[1;33m}\u001b[0m\u001b[1;33m)\u001b[0m\u001b[1;33m\u001b[0m\u001b[1;33m\u001b[0m\u001b[0m\n\u001b[0;32m   3923\u001b[0m \u001b[1;33m\u001b[0m\u001b[0m\n",
      "\u001b[1;32mC:\\ProgramData\\Anaconda3\\lib\\site-packages\\pandas\\core\\indexes\\base.py\u001b[0m in \u001b[0;36mdrop\u001b[1;34m(self, labels, errors)\u001b[0m\n\u001b[0;32m   5280\u001b[0m         \u001b[1;32mif\u001b[0m \u001b[0mmask\u001b[0m\u001b[1;33m.\u001b[0m\u001b[0many\u001b[0m\u001b[1;33m(\u001b[0m\u001b[1;33m)\u001b[0m\u001b[1;33m:\u001b[0m\u001b[1;33m\u001b[0m\u001b[1;33m\u001b[0m\u001b[0m\n\u001b[0;32m   5281\u001b[0m             \u001b[1;32mif\u001b[0m \u001b[0merrors\u001b[0m \u001b[1;33m!=\u001b[0m \u001b[1;34m\"ignore\"\u001b[0m\u001b[1;33m:\u001b[0m\u001b[1;33m\u001b[0m\u001b[1;33m\u001b[0m\u001b[0m\n\u001b[1;32m-> 5282\u001b[1;33m                 \u001b[1;32mraise\u001b[0m \u001b[0mKeyError\u001b[0m\u001b[1;33m(\u001b[0m\u001b[1;34mf\"{labels[mask]} not found in axis\"\u001b[0m\u001b[1;33m)\u001b[0m\u001b[1;33m\u001b[0m\u001b[1;33m\u001b[0m\u001b[0m\n\u001b[0m\u001b[0;32m   5283\u001b[0m             \u001b[0mindexer\u001b[0m \u001b[1;33m=\u001b[0m \u001b[0mindexer\u001b[0m\u001b[1;33m[\u001b[0m\u001b[1;33m~\u001b[0m\u001b[0mmask\u001b[0m\u001b[1;33m]\u001b[0m\u001b[1;33m\u001b[0m\u001b[1;33m\u001b[0m\u001b[0m\n\u001b[0;32m   5284\u001b[0m         \u001b[1;32mreturn\u001b[0m \u001b[0mself\u001b[0m\u001b[1;33m.\u001b[0m\u001b[0mdelete\u001b[0m\u001b[1;33m(\u001b[0m\u001b[0mindexer\u001b[0m\u001b[1;33m)\u001b[0m\u001b[1;33m\u001b[0m\u001b[1;33m\u001b[0m\u001b[0m\n",
      "\u001b[1;31mKeyError\u001b[0m: \"['Alley'] not found in axis\""
     ]
    }
   ],
   "source": [
    "new_df.drop(['Alley'],axis=1,inplace=True)\n",
    "new_df.drop(['MasVnrArea'],axis=1,inplace=True)\n",
    "new_df.drop(['MasVnrArea'],axis=1,inplace=True)"
   ]
  },
  {
   "cell_type": "code",
   "execution_count": 14,
   "metadata": {},
   "outputs": [
    {
     "data": {
      "text/html": [
       "<div>\n",
       "<style scoped>\n",
       "    .dataframe tbody tr th:only-of-type {\n",
       "        vertical-align: middle;\n",
       "    }\n",
       "\n",
       "    .dataframe tbody tr th {\n",
       "        vertical-align: top;\n",
       "    }\n",
       "\n",
       "    .dataframe thead th {\n",
       "        text-align: right;\n",
       "    }\n",
       "</style>\n",
       "<table border=\"1\" class=\"dataframe\">\n",
       "  <thead>\n",
       "    <tr style=\"text-align: right;\">\n",
       "      <th></th>\n",
       "      <th>Id</th>\n",
       "      <th>LotFrontage</th>\n",
       "      <th>LotArea</th>\n",
       "      <th>1stFlrSF</th>\n",
       "      <th>2ndFlrSF</th>\n",
       "      <th>GrLivArea</th>\n",
       "      <th>GarageType</th>\n",
       "      <th>GarageArea</th>\n",
       "      <th>SalePrice</th>\n",
       "    </tr>\n",
       "  </thead>\n",
       "  <tbody>\n",
       "    <tr>\n",
       "      <th>0</th>\n",
       "      <td>1</td>\n",
       "      <td>65.0</td>\n",
       "      <td>8450</td>\n",
       "      <td>856</td>\n",
       "      <td>854</td>\n",
       "      <td>1710</td>\n",
       "      <td>Attchd</td>\n",
       "      <td>548</td>\n",
       "      <td>208500</td>\n",
       "    </tr>\n",
       "    <tr>\n",
       "      <th>1</th>\n",
       "      <td>2</td>\n",
       "      <td>80.0</td>\n",
       "      <td>9600</td>\n",
       "      <td>1262</td>\n",
       "      <td>0</td>\n",
       "      <td>1262</td>\n",
       "      <td>Attchd</td>\n",
       "      <td>460</td>\n",
       "      <td>181500</td>\n",
       "    </tr>\n",
       "    <tr>\n",
       "      <th>2</th>\n",
       "      <td>3</td>\n",
       "      <td>68.0</td>\n",
       "      <td>11250</td>\n",
       "      <td>920</td>\n",
       "      <td>866</td>\n",
       "      <td>1786</td>\n",
       "      <td>Attchd</td>\n",
       "      <td>608</td>\n",
       "      <td>223500</td>\n",
       "    </tr>\n",
       "    <tr>\n",
       "      <th>3</th>\n",
       "      <td>4</td>\n",
       "      <td>60.0</td>\n",
       "      <td>9550</td>\n",
       "      <td>961</td>\n",
       "      <td>756</td>\n",
       "      <td>1717</td>\n",
       "      <td>Detchd</td>\n",
       "      <td>642</td>\n",
       "      <td>140000</td>\n",
       "    </tr>\n",
       "    <tr>\n",
       "      <th>4</th>\n",
       "      <td>5</td>\n",
       "      <td>84.0</td>\n",
       "      <td>14260</td>\n",
       "      <td>1145</td>\n",
       "      <td>1053</td>\n",
       "      <td>2198</td>\n",
       "      <td>Attchd</td>\n",
       "      <td>836</td>\n",
       "      <td>250000</td>\n",
       "    </tr>\n",
       "  </tbody>\n",
       "</table>\n",
       "</div>"
      ],
      "text/plain": [
       "   Id  LotFrontage  LotArea  1stFlrSF  2ndFlrSF  GrLivArea GarageType  \\\n",
       "0   1         65.0     8450       856       854       1710     Attchd   \n",
       "1   2         80.0     9600      1262         0       1262     Attchd   \n",
       "2   3         68.0    11250       920       866       1786     Attchd   \n",
       "3   4         60.0     9550       961       756       1717     Detchd   \n",
       "4   5         84.0    14260      1145      1053       2198     Attchd   \n",
       "\n",
       "   GarageArea  SalePrice  \n",
       "0         548     208500  \n",
       "1         460     181500  \n",
       "2         608     223500  \n",
       "3         642     140000  \n",
       "4         836     250000  "
      ]
     },
     "execution_count": 14,
     "metadata": {},
     "output_type": "execute_result"
    }
   ],
   "source": [
    "new_df.head()\n"
   ]
  },
  {
   "cell_type": "code",
   "execution_count": 15,
   "metadata": {},
   "outputs": [
    {
     "data": {
      "text/plain": [
       "Id             0\n",
       "LotFrontage    0\n",
       "LotArea        0\n",
       "1stFlrSF       0\n",
       "2ndFlrSF       0\n",
       "GrLivArea      0\n",
       "GarageType     0\n",
       "GarageArea     0\n",
       "SalePrice      0\n",
       "dtype: int64"
      ]
     },
     "execution_count": 15,
     "metadata": {},
     "output_type": "execute_result"
    }
   ],
   "source": [
    "new_df.isnull().sum()"
   ]
  },
  {
   "cell_type": "code",
   "execution_count": 16,
   "metadata": {},
   "outputs": [
    {
     "data": {
      "text/html": [
       "<div>\n",
       "<style scoped>\n",
       "    .dataframe tbody tr th:only-of-type {\n",
       "        vertical-align: middle;\n",
       "    }\n",
       "\n",
       "    .dataframe tbody tr th {\n",
       "        vertical-align: top;\n",
       "    }\n",
       "\n",
       "    .dataframe thead th {\n",
       "        text-align: right;\n",
       "    }\n",
       "</style>\n",
       "<table border=\"1\" class=\"dataframe\">\n",
       "  <thead>\n",
       "    <tr style=\"text-align: right;\">\n",
       "      <th></th>\n",
       "      <th>Id</th>\n",
       "      <th>LotFrontage</th>\n",
       "      <th>LotArea</th>\n",
       "      <th>1stFlrSF</th>\n",
       "      <th>2ndFlrSF</th>\n",
       "      <th>GrLivArea</th>\n",
       "      <th>GarageType</th>\n",
       "      <th>GarageArea</th>\n",
       "      <th>SalePrice</th>\n",
       "    </tr>\n",
       "  </thead>\n",
       "  <tbody>\n",
       "    <tr>\n",
       "      <th>0</th>\n",
       "      <td>1</td>\n",
       "      <td>65.0</td>\n",
       "      <td>8450</td>\n",
       "      <td>856</td>\n",
       "      <td>854</td>\n",
       "      <td>1710</td>\n",
       "      <td>Attchd</td>\n",
       "      <td>548</td>\n",
       "      <td>208500</td>\n",
       "    </tr>\n",
       "    <tr>\n",
       "      <th>1</th>\n",
       "      <td>2</td>\n",
       "      <td>80.0</td>\n",
       "      <td>9600</td>\n",
       "      <td>1262</td>\n",
       "      <td>0</td>\n",
       "      <td>1262</td>\n",
       "      <td>Attchd</td>\n",
       "      <td>460</td>\n",
       "      <td>181500</td>\n",
       "    </tr>\n",
       "    <tr>\n",
       "      <th>2</th>\n",
       "      <td>3</td>\n",
       "      <td>68.0</td>\n",
       "      <td>11250</td>\n",
       "      <td>920</td>\n",
       "      <td>866</td>\n",
       "      <td>1786</td>\n",
       "      <td>Attchd</td>\n",
       "      <td>608</td>\n",
       "      <td>223500</td>\n",
       "    </tr>\n",
       "    <tr>\n",
       "      <th>3</th>\n",
       "      <td>4</td>\n",
       "      <td>60.0</td>\n",
       "      <td>9550</td>\n",
       "      <td>961</td>\n",
       "      <td>756</td>\n",
       "      <td>1717</td>\n",
       "      <td>Detchd</td>\n",
       "      <td>642</td>\n",
       "      <td>140000</td>\n",
       "    </tr>\n",
       "    <tr>\n",
       "      <th>4</th>\n",
       "      <td>5</td>\n",
       "      <td>84.0</td>\n",
       "      <td>14260</td>\n",
       "      <td>1145</td>\n",
       "      <td>1053</td>\n",
       "      <td>2198</td>\n",
       "      <td>Attchd</td>\n",
       "      <td>836</td>\n",
       "      <td>250000</td>\n",
       "    </tr>\n",
       "    <tr>\n",
       "      <th>...</th>\n",
       "      <td>...</td>\n",
       "      <td>...</td>\n",
       "      <td>...</td>\n",
       "      <td>...</td>\n",
       "      <td>...</td>\n",
       "      <td>...</td>\n",
       "      <td>...</td>\n",
       "      <td>...</td>\n",
       "      <td>...</td>\n",
       "    </tr>\n",
       "    <tr>\n",
       "      <th>1455</th>\n",
       "      <td>1456</td>\n",
       "      <td>62.0</td>\n",
       "      <td>7917</td>\n",
       "      <td>953</td>\n",
       "      <td>694</td>\n",
       "      <td>1647</td>\n",
       "      <td>Attchd</td>\n",
       "      <td>460</td>\n",
       "      <td>175000</td>\n",
       "    </tr>\n",
       "    <tr>\n",
       "      <th>1456</th>\n",
       "      <td>1457</td>\n",
       "      <td>85.0</td>\n",
       "      <td>13175</td>\n",
       "      <td>2073</td>\n",
       "      <td>0</td>\n",
       "      <td>2073</td>\n",
       "      <td>Attchd</td>\n",
       "      <td>500</td>\n",
       "      <td>210000</td>\n",
       "    </tr>\n",
       "    <tr>\n",
       "      <th>1457</th>\n",
       "      <td>1458</td>\n",
       "      <td>66.0</td>\n",
       "      <td>9042</td>\n",
       "      <td>1188</td>\n",
       "      <td>1152</td>\n",
       "      <td>2340</td>\n",
       "      <td>Attchd</td>\n",
       "      <td>252</td>\n",
       "      <td>266500</td>\n",
       "    </tr>\n",
       "    <tr>\n",
       "      <th>1458</th>\n",
       "      <td>1459</td>\n",
       "      <td>68.0</td>\n",
       "      <td>9717</td>\n",
       "      <td>1078</td>\n",
       "      <td>0</td>\n",
       "      <td>1078</td>\n",
       "      <td>Attchd</td>\n",
       "      <td>240</td>\n",
       "      <td>142125</td>\n",
       "    </tr>\n",
       "    <tr>\n",
       "      <th>1459</th>\n",
       "      <td>1460</td>\n",
       "      <td>75.0</td>\n",
       "      <td>9937</td>\n",
       "      <td>1256</td>\n",
       "      <td>0</td>\n",
       "      <td>1256</td>\n",
       "      <td>Attchd</td>\n",
       "      <td>276</td>\n",
       "      <td>147500</td>\n",
       "    </tr>\n",
       "  </tbody>\n",
       "</table>\n",
       "<p>1460 rows × 9 columns</p>\n",
       "</div>"
      ],
      "text/plain": [
       "        Id  LotFrontage  LotArea  1stFlrSF  2ndFlrSF  GrLivArea GarageType  \\\n",
       "0        1         65.0     8450       856       854       1710     Attchd   \n",
       "1        2         80.0     9600      1262         0       1262     Attchd   \n",
       "2        3         68.0    11250       920       866       1786     Attchd   \n",
       "3        4         60.0     9550       961       756       1717     Detchd   \n",
       "4        5         84.0    14260      1145      1053       2198     Attchd   \n",
       "...    ...          ...      ...       ...       ...        ...        ...   \n",
       "1455  1456         62.0     7917       953       694       1647     Attchd   \n",
       "1456  1457         85.0    13175      2073         0       2073     Attchd   \n",
       "1457  1458         66.0     9042      1188      1152       2340     Attchd   \n",
       "1458  1459         68.0     9717      1078         0       1078     Attchd   \n",
       "1459  1460         75.0     9937      1256         0       1256     Attchd   \n",
       "\n",
       "      GarageArea  SalePrice  \n",
       "0            548     208500  \n",
       "1            460     181500  \n",
       "2            608     223500  \n",
       "3            642     140000  \n",
       "4            836     250000  \n",
       "...          ...        ...  \n",
       "1455         460     175000  \n",
       "1456         500     210000  \n",
       "1457         252     266500  \n",
       "1458         240     142125  \n",
       "1459         276     147500  \n",
       "\n",
       "[1460 rows x 9 columns]"
      ]
     },
     "execution_count": 16,
     "metadata": {},
     "output_type": "execute_result"
    }
   ],
   "source": [
    "new_df"
   ]
  },
  {
   "cell_type": "code",
   "execution_count": 17,
   "metadata": {},
   "outputs": [],
   "source": [
    "new_df['GarageType']=new_df['GarageType'].map({'Attchd':1,'Detchd':2,'No garage':3,'BuiltIn':4,'CarPort':5,'Basment':6,'2Types':7})"
   ]
  },
  {
   "cell_type": "code",
   "execution_count": 18,
   "metadata": {},
   "outputs": [
    {
     "data": {
      "text/plain": [
       "Id             0\n",
       "LotFrontage    0\n",
       "LotArea        0\n",
       "1stFlrSF       0\n",
       "2ndFlrSF       0\n",
       "GrLivArea      0\n",
       "GarageType     0\n",
       "GarageArea     0\n",
       "SalePrice      0\n",
       "dtype: int64"
      ]
     },
     "execution_count": 18,
     "metadata": {},
     "output_type": "execute_result"
    }
   ],
   "source": [
    "new_df.isnull().sum()"
   ]
  },
  {
   "cell_type": "code",
   "execution_count": 21,
   "metadata": {},
   "outputs": [
    {
     "data": {
      "text/plain": [
       "array([ 8450,  9600, 11250, ..., 17217, 13175,  9717], dtype=int64)"
      ]
     },
     "execution_count": 21,
     "metadata": {},
     "output_type": "execute_result"
    }
   ],
   "source": [
    "new_df['LotArea'].unique()"
   ]
  },
  {
   "cell_type": "code",
   "execution_count": 23,
   "metadata": {},
   "outputs": [
    {
     "data": {
      "text/plain": [
       "array([1, 2, 4, 5, 3, 6, 7], dtype=int64)"
      ]
     },
     "execution_count": 23,
     "metadata": {},
     "output_type": "execute_result"
    }
   ],
   "source": [
    "new_df['GarageType'].unique()"
   ]
  },
  {
   "cell_type": "code",
   "execution_count": 24,
   "metadata": {},
   "outputs": [
    {
     "name": "stderr",
     "output_type": "stream",
     "text": [
      "C:\\ProgramData\\Anaconda3\\lib\\site-packages\\seaborn\\distributions.py:2551: FutureWarning: `distplot` is a deprecated function and will be removed in a future version. Please adapt your code to use either `displot` (a figure-level function with similar flexibility) or `histplot` (an axes-level function for histograms).\n",
      "  warnings.warn(msg, FutureWarning)\n",
      "C:\\ProgramData\\Anaconda3\\lib\\site-packages\\seaborn\\distributions.py:2551: FutureWarning: `distplot` is a deprecated function and will be removed in a future version. Please adapt your code to use either `displot` (a figure-level function with similar flexibility) or `histplot` (an axes-level function for histograms).\n",
      "  warnings.warn(msg, FutureWarning)\n",
      "C:\\ProgramData\\Anaconda3\\lib\\site-packages\\seaborn\\distributions.py:2551: FutureWarning: `distplot` is a deprecated function and will be removed in a future version. Please adapt your code to use either `displot` (a figure-level function with similar flexibility) or `histplot` (an axes-level function for histograms).\n",
      "  warnings.warn(msg, FutureWarning)\n",
      "C:\\ProgramData\\Anaconda3\\lib\\site-packages\\seaborn\\distributions.py:2551: FutureWarning: `distplot` is a deprecated function and will be removed in a future version. Please adapt your code to use either `displot` (a figure-level function with similar flexibility) or `histplot` (an axes-level function for histograms).\n",
      "  warnings.warn(msg, FutureWarning)\n",
      "C:\\ProgramData\\Anaconda3\\lib\\site-packages\\seaborn\\distributions.py:2551: FutureWarning: `distplot` is a deprecated function and will be removed in a future version. Please adapt your code to use either `displot` (a figure-level function with similar flexibility) or `histplot` (an axes-level function for histograms).\n",
      "  warnings.warn(msg, FutureWarning)\n",
      "C:\\ProgramData\\Anaconda3\\lib\\site-packages\\seaborn\\distributions.py:2551: FutureWarning: `distplot` is a deprecated function and will be removed in a future version. Please adapt your code to use either `displot` (a figure-level function with similar flexibility) or `histplot` (an axes-level function for histograms).\n",
      "  warnings.warn(msg, FutureWarning)\n",
      "C:\\ProgramData\\Anaconda3\\lib\\site-packages\\seaborn\\distributions.py:2551: FutureWarning: `distplot` is a deprecated function and will be removed in a future version. Please adapt your code to use either `displot` (a figure-level function with similar flexibility) or `histplot` (an axes-level function for histograms).\n",
      "  warnings.warn(msg, FutureWarning)\n"
     ]
    },
    {
     "ename": "ValueError",
     "evalue": "could not convert string to float: 'Attchd'",
     "output_type": "error",
     "traceback": [
      "\u001b[1;31m---------------------------------------------------------------------------\u001b[0m",
      "\u001b[1;31mValueError\u001b[0m                                Traceback (most recent call last)",
      "\u001b[1;32m<ipython-input-24-049602052cda>\u001b[0m in \u001b[0;36m<module>\u001b[1;34m\u001b[0m\n\u001b[0;32m      5\u001b[0m     \u001b[1;32mif\u001b[0m \u001b[0mplotnumber\u001b[0m\u001b[1;33m<=\u001b[0m \u001b[1;36m9\u001b[0m\u001b[1;33m:\u001b[0m\u001b[1;33m\u001b[0m\u001b[1;33m\u001b[0m\u001b[0m\n\u001b[0;32m      6\u001b[0m         \u001b[0max\u001b[0m \u001b[1;33m=\u001b[0m \u001b[0mplt\u001b[0m\u001b[1;33m.\u001b[0m\u001b[0msubplot\u001b[0m\u001b[1;33m(\u001b[0m\u001b[1;36m3\u001b[0m\u001b[1;33m,\u001b[0m\u001b[1;36m3\u001b[0m\u001b[1;33m,\u001b[0m\u001b[0mplotnumber\u001b[0m\u001b[1;33m)\u001b[0m\u001b[1;33m\u001b[0m\u001b[1;33m\u001b[0m\u001b[0m\n\u001b[1;32m----> 7\u001b[1;33m         \u001b[0msns\u001b[0m\u001b[1;33m.\u001b[0m\u001b[0mdistplot\u001b[0m\u001b[1;33m(\u001b[0m\u001b[0mdf\u001b[0m\u001b[1;33m[\u001b[0m\u001b[0mcolumn\u001b[0m\u001b[1;33m]\u001b[0m\u001b[1;33m)\u001b[0m\u001b[1;33m\u001b[0m\u001b[1;33m\u001b[0m\u001b[0m\n\u001b[0m\u001b[0;32m      8\u001b[0m         \u001b[0mplt\u001b[0m\u001b[1;33m.\u001b[0m\u001b[0mxlabel\u001b[0m\u001b[1;33m(\u001b[0m\u001b[0mcolumn\u001b[0m\u001b[1;33m,\u001b[0m\u001b[0mfontsize\u001b[0m\u001b[1;33m=\u001b[0m\u001b[1;36m20\u001b[0m\u001b[1;33m)\u001b[0m\u001b[1;33m\u001b[0m\u001b[1;33m\u001b[0m\u001b[0m\n\u001b[0;32m      9\u001b[0m \u001b[1;33m\u001b[0m\u001b[0m\n",
      "\u001b[1;32mC:\\ProgramData\\Anaconda3\\lib\\site-packages\\seaborn\\distributions.py\u001b[0m in \u001b[0;36mdistplot\u001b[1;34m(a, bins, hist, kde, rug, fit, hist_kws, kde_kws, rug_kws, fit_kws, color, vertical, norm_hist, axlabel, label, ax, x)\u001b[0m\n\u001b[0;32m   2566\u001b[0m \u001b[1;33m\u001b[0m\u001b[0m\n\u001b[0;32m   2567\u001b[0m     \u001b[1;31m# Make a a 1-d float array\u001b[0m\u001b[1;33m\u001b[0m\u001b[1;33m\u001b[0m\u001b[1;33m\u001b[0m\u001b[0m\n\u001b[1;32m-> 2568\u001b[1;33m     \u001b[0ma\u001b[0m \u001b[1;33m=\u001b[0m \u001b[0mnp\u001b[0m\u001b[1;33m.\u001b[0m\u001b[0masarray\u001b[0m\u001b[1;33m(\u001b[0m\u001b[0ma\u001b[0m\u001b[1;33m,\u001b[0m \u001b[0mfloat\u001b[0m\u001b[1;33m)\u001b[0m\u001b[1;33m\u001b[0m\u001b[1;33m\u001b[0m\u001b[0m\n\u001b[0m\u001b[0;32m   2569\u001b[0m     \u001b[1;32mif\u001b[0m \u001b[0ma\u001b[0m\u001b[1;33m.\u001b[0m\u001b[0mndim\u001b[0m \u001b[1;33m>\u001b[0m \u001b[1;36m1\u001b[0m\u001b[1;33m:\u001b[0m\u001b[1;33m\u001b[0m\u001b[1;33m\u001b[0m\u001b[0m\n\u001b[0;32m   2570\u001b[0m         \u001b[0ma\u001b[0m \u001b[1;33m=\u001b[0m \u001b[0ma\u001b[0m\u001b[1;33m.\u001b[0m\u001b[0msqueeze\u001b[0m\u001b[1;33m(\u001b[0m\u001b[1;33m)\u001b[0m\u001b[1;33m\u001b[0m\u001b[1;33m\u001b[0m\u001b[0m\n",
      "\u001b[1;32mC:\\ProgramData\\Anaconda3\\lib\\site-packages\\numpy\\core\\_asarray.py\u001b[0m in \u001b[0;36masarray\u001b[1;34m(a, dtype, order)\u001b[0m\n\u001b[0;32m     81\u001b[0m \u001b[1;33m\u001b[0m\u001b[0m\n\u001b[0;32m     82\u001b[0m     \"\"\"\n\u001b[1;32m---> 83\u001b[1;33m     \u001b[1;32mreturn\u001b[0m \u001b[0marray\u001b[0m\u001b[1;33m(\u001b[0m\u001b[0ma\u001b[0m\u001b[1;33m,\u001b[0m \u001b[0mdtype\u001b[0m\u001b[1;33m,\u001b[0m \u001b[0mcopy\u001b[0m\u001b[1;33m=\u001b[0m\u001b[1;32mFalse\u001b[0m\u001b[1;33m,\u001b[0m \u001b[0morder\u001b[0m\u001b[1;33m=\u001b[0m\u001b[0morder\u001b[0m\u001b[1;33m)\u001b[0m\u001b[1;33m\u001b[0m\u001b[1;33m\u001b[0m\u001b[0m\n\u001b[0m\u001b[0;32m     84\u001b[0m \u001b[1;33m\u001b[0m\u001b[0m\n\u001b[0;32m     85\u001b[0m \u001b[1;33m\u001b[0m\u001b[0m\n",
      "\u001b[1;32mC:\\ProgramData\\Anaconda3\\lib\\site-packages\\pandas\\core\\series.py\u001b[0m in \u001b[0;36m__array__\u001b[1;34m(self, dtype)\u001b[0m\n\u001b[0;32m    795\u001b[0m               dtype='datetime64[ns]')\n\u001b[0;32m    796\u001b[0m         \"\"\"\n\u001b[1;32m--> 797\u001b[1;33m         \u001b[1;32mreturn\u001b[0m \u001b[0mnp\u001b[0m\u001b[1;33m.\u001b[0m\u001b[0masarray\u001b[0m\u001b[1;33m(\u001b[0m\u001b[0mself\u001b[0m\u001b[1;33m.\u001b[0m\u001b[0marray\u001b[0m\u001b[1;33m,\u001b[0m \u001b[0mdtype\u001b[0m\u001b[1;33m)\u001b[0m\u001b[1;33m\u001b[0m\u001b[1;33m\u001b[0m\u001b[0m\n\u001b[0m\u001b[0;32m    798\u001b[0m \u001b[1;33m\u001b[0m\u001b[0m\n\u001b[0;32m    799\u001b[0m     \u001b[1;31m# ----------------------------------------------------------------------\u001b[0m\u001b[1;33m\u001b[0m\u001b[1;33m\u001b[0m\u001b[1;33m\u001b[0m\u001b[0m\n",
      "\u001b[1;32mC:\\ProgramData\\Anaconda3\\lib\\site-packages\\numpy\\core\\_asarray.py\u001b[0m in \u001b[0;36masarray\u001b[1;34m(a, dtype, order)\u001b[0m\n\u001b[0;32m     81\u001b[0m \u001b[1;33m\u001b[0m\u001b[0m\n\u001b[0;32m     82\u001b[0m     \"\"\"\n\u001b[1;32m---> 83\u001b[1;33m     \u001b[1;32mreturn\u001b[0m \u001b[0marray\u001b[0m\u001b[1;33m(\u001b[0m\u001b[0ma\u001b[0m\u001b[1;33m,\u001b[0m \u001b[0mdtype\u001b[0m\u001b[1;33m,\u001b[0m \u001b[0mcopy\u001b[0m\u001b[1;33m=\u001b[0m\u001b[1;32mFalse\u001b[0m\u001b[1;33m,\u001b[0m \u001b[0morder\u001b[0m\u001b[1;33m=\u001b[0m\u001b[0morder\u001b[0m\u001b[1;33m)\u001b[0m\u001b[1;33m\u001b[0m\u001b[1;33m\u001b[0m\u001b[0m\n\u001b[0m\u001b[0;32m     84\u001b[0m \u001b[1;33m\u001b[0m\u001b[0m\n\u001b[0;32m     85\u001b[0m \u001b[1;33m\u001b[0m\u001b[0m\n",
      "\u001b[1;32mC:\\ProgramData\\Anaconda3\\lib\\site-packages\\pandas\\core\\arrays\\numpy_.py\u001b[0m in \u001b[0;36m__array__\u001b[1;34m(self, dtype)\u001b[0m\n\u001b[0;32m    209\u001b[0m \u001b[1;33m\u001b[0m\u001b[0m\n\u001b[0;32m    210\u001b[0m     \u001b[1;32mdef\u001b[0m \u001b[0m__array__\u001b[0m\u001b[1;33m(\u001b[0m\u001b[0mself\u001b[0m\u001b[1;33m,\u001b[0m \u001b[0mdtype\u001b[0m\u001b[1;33m=\u001b[0m\u001b[1;32mNone\u001b[0m\u001b[1;33m)\u001b[0m \u001b[1;33m->\u001b[0m \u001b[0mnp\u001b[0m\u001b[1;33m.\u001b[0m\u001b[0mndarray\u001b[0m\u001b[1;33m:\u001b[0m\u001b[1;33m\u001b[0m\u001b[1;33m\u001b[0m\u001b[0m\n\u001b[1;32m--> 211\u001b[1;33m         \u001b[1;32mreturn\u001b[0m \u001b[0mnp\u001b[0m\u001b[1;33m.\u001b[0m\u001b[0masarray\u001b[0m\u001b[1;33m(\u001b[0m\u001b[0mself\u001b[0m\u001b[1;33m.\u001b[0m\u001b[0m_ndarray\u001b[0m\u001b[1;33m,\u001b[0m \u001b[0mdtype\u001b[0m\u001b[1;33m=\u001b[0m\u001b[0mdtype\u001b[0m\u001b[1;33m)\u001b[0m\u001b[1;33m\u001b[0m\u001b[1;33m\u001b[0m\u001b[0m\n\u001b[0m\u001b[0;32m    212\u001b[0m \u001b[1;33m\u001b[0m\u001b[0m\n\u001b[0;32m    213\u001b[0m     \u001b[0m_HANDLED_TYPES\u001b[0m \u001b[1;33m=\u001b[0m \u001b[1;33m(\u001b[0m\u001b[0mnp\u001b[0m\u001b[1;33m.\u001b[0m\u001b[0mndarray\u001b[0m\u001b[1;33m,\u001b[0m \u001b[0mnumbers\u001b[0m\u001b[1;33m.\u001b[0m\u001b[0mNumber\u001b[0m\u001b[1;33m)\u001b[0m\u001b[1;33m\u001b[0m\u001b[1;33m\u001b[0m\u001b[0m\n",
      "\u001b[1;32mC:\\ProgramData\\Anaconda3\\lib\\site-packages\\numpy\\core\\_asarray.py\u001b[0m in \u001b[0;36masarray\u001b[1;34m(a, dtype, order)\u001b[0m\n\u001b[0;32m     81\u001b[0m \u001b[1;33m\u001b[0m\u001b[0m\n\u001b[0;32m     82\u001b[0m     \"\"\"\n\u001b[1;32m---> 83\u001b[1;33m     \u001b[1;32mreturn\u001b[0m \u001b[0marray\u001b[0m\u001b[1;33m(\u001b[0m\u001b[0ma\u001b[0m\u001b[1;33m,\u001b[0m \u001b[0mdtype\u001b[0m\u001b[1;33m,\u001b[0m \u001b[0mcopy\u001b[0m\u001b[1;33m=\u001b[0m\u001b[1;32mFalse\u001b[0m\u001b[1;33m,\u001b[0m \u001b[0morder\u001b[0m\u001b[1;33m=\u001b[0m\u001b[0morder\u001b[0m\u001b[1;33m)\u001b[0m\u001b[1;33m\u001b[0m\u001b[1;33m\u001b[0m\u001b[0m\n\u001b[0m\u001b[0;32m     84\u001b[0m \u001b[1;33m\u001b[0m\u001b[0m\n\u001b[0;32m     85\u001b[0m \u001b[1;33m\u001b[0m\u001b[0m\n",
      "\u001b[1;31mValueError\u001b[0m: could not convert string to float: 'Attchd'"
     ]
    },
    {
     "data": {
      "image/png": "[encoded data removed]",
      "text/plain": [
       "<Figure size 1440x1800 with 7 Axes>"
      ]
     },
     "metadata": {},
     "output_type": "display_data"
    }
   ],
   "source": [
    "plt.figure(figsize=(20,25), facecolor='white')\n",
    "plotnumber = 1\n",
    "\n",
    "for column in new_df:\n",
    "    if plotnumber<= 9:     \n",
    "        ax = plt.subplot(3,3,plotnumber)\n",
    "        sns.distplot(df[column])\n",
    "        plt.xlabel(column,fontsize=20)\n",
    "        \n",
    "    plotnumber+=1\n",
    "plt.show()"
   ]
  },
  {
   "cell_type": "code",
   "execution_count": 25,
   "metadata": {},
   "outputs": [
    {
     "data": {
      "text/plain": [
       "<AxesSubplot:>"
      ]
     },
     "execution_count": 25,
     "metadata": {},
     "output_type": "execute_result"
    },
    {
     "data": {
      "image/png": "[encoded data removed]",
      "text/plain": [
       "<Figure size 1080x720 with 1 Axes>"
      ]
     },
     "metadata": {
      "needs_background": "light"
     },
     "output_type": "display_data"
    }
   ],
   "source": [
    "fig, ax = plt.subplots(figsize=(15,10))\n",
    "sns.boxplot(data=new_df, width= 0.5,ax=ax,  fliersize=3)\n"
   ]
  },
  {
   "cell_type": "code",
   "execution_count": 70,
   "metadata": {},
   "outputs": [],
   "source": [
    "x=new_df.drop(['GrLivArea'],axis=1)\n",
    "y=new_df['GrLivArea']"
   ]
  },
  {
   "cell_type": "code",
   "execution_count": 71,
   "metadata": {},
   "outputs": [],
   "source": [
    "from  sklearn.model_selection import train_test_split\n",
    "from sklearn.svm import SVC"
   ]
  },
  {
   "cell_type": "code",
   "execution_count": 77,
   "metadata": {},
   "outputs": [],
   "source": [
    "train_x,test_x,train_y,test_y=train_test_split(x,y,test_size=0.30, random_state=600)"
   ]
  },
  {
   "cell_type": "code",
   "execution_count": 78,
   "metadata": {},
   "outputs": [
    {
     "data": {
      "text/plain": [
       "SVC()"
      ]
     },
     "execution_count": 78,
     "metadata": {},
     "output_type": "execute_result"
    }
   ],
   "source": [
    "model=SVC()\n",
    "model.fit(train_x,train_y)"
   ]
  },
  {
   "cell_type": "code",
   "execution_count": 79,
   "metadata": {},
   "outputs": [
    {
     "data": {
      "text/plain": [
       "array([1694, 1768,  864,  864,  864,  864, 1200,  864,  864,  864,  864,\n",
       "        864, 1768, 1768,  864,  864, 1200,  864,  864,  864,  864,  864,\n",
       "       1694, 1694, 1768,  864,  864, 1768,  864,  864,  864, 1768, 1768,\n",
       "        864,  864,  864,  864, 1200,  864,  864,  864,  864,  864,  864,\n",
       "        864,  864, 1200,  864, 1694,  864,  864,  864, 1200,  864, 2097,\n",
       "        864,  864,  864,  864, 1768,  864,  864,  864,  864,  864, 1200,\n",
       "        864, 1694,  864, 1768,  864, 1694,  864,  864,  864,  864,  864,\n",
       "        864,  864, 1768,  864,  864,  864,  864,  864,  864,  864,  864,\n",
       "        864,  864,  864, 1200,  864,  864,  864,  864, 1200, 1768,  864,\n",
       "        864,  864,  864,  864,  864, 1768, 1768,  864, 1200,  864,  864,\n",
       "        864,  864,  864, 1694,  864,  864,  864,  864, 1694,  864,  864,\n",
       "        864,  864,  864,  864,  864, 1200, 1694, 1768, 1200,  864, 1768,\n",
       "        864, 1200,  864,  864,  864, 1768, 1200,  864,  864,  864, 1768,\n",
       "        864,  864,  864, 1768,  864,  864,  864, 1200, 1768, 1768, 1768,\n",
       "       1768,  864,  864,  864,  864, 1200,  864,  864, 1200,  864, 1200,\n",
       "       1694,  864,  864,  864,  864,  864,  864, 1694,  864, 1694,  864,\n",
       "        864, 1694,  864, 1694,  864,  864,  864, 1694, 1694, 1200,  864,\n",
       "        864,  864, 1200, 1200,  864,  864,  864,  864,  864,  864,  864,\n",
       "       1768,  864,  864,  864,  864, 1768,  864,  864,  864,  864,  864,\n",
       "        864, 1768, 1694, 1768,  864,  864,  864, 1200, 1200, 1200, 1768,\n",
       "        864, 1768,  864,  864,  864, 1694,  864, 1200,  864, 1200, 1200,\n",
       "        864,  864, 1200,  864,  864,  864,  864, 1694,  864, 1768,  864,\n",
       "       1768, 1768, 1200, 1694,  864,  864,  864, 1768,  864,  864,  864,\n",
       "        864,  864,  864,  864,  864,  864,  864,  864,  864, 1768, 1768,\n",
       "       1200,  864,  864, 2097,  864,  864,  864,  864,  864,  864,  864,\n",
       "        864,  864,  864,  864,  864,  864,  864,  864, 1200, 1768,  864,\n",
       "        864,  864,  864,  864, 1200,  864,  864,  864, 1768,  864,  864,\n",
       "        864,  864,  864,  864, 1768, 1200,  864,  864,  864,  864,  864,\n",
       "        864,  864,  864, 1768,  864,  864, 1200,  864,  864,  864,  864,\n",
       "        864,  864, 1768,  864,  864,  864, 1694,  864,  864,  864,  864,\n",
       "        864,  864, 1694, 1200, 1768,  864,  864, 1768,  864, 1694,  864,\n",
       "        864,  864,  864,  864,  864, 1694,  864,  864,  864, 1694, 1768,\n",
       "        864, 1768, 1768,  864, 1200,  864, 1768,  864,  864, 1768,  864,\n",
       "        864, 1200,  864,  864, 1694,  864,  864,  864, 1694,  864,  864,\n",
       "        864,  864, 1200, 1200, 1694,  864, 1200,  864,  864,  864, 1768,\n",
       "        864, 1768,  864,  864,  864,  864,  864,  864, 1694,  864,  864,\n",
       "       1768, 1768, 1768,  864,  864,  864,  864, 1768,  864,  864, 1768,\n",
       "        864, 1200,  864, 1768,  864,  864,  864,  864, 1200,  864, 1200,\n",
       "        864,  864,  864,  864,  864,  864,  864, 1694,  864,  864,  864,\n",
       "        864, 1768,  864, 1768, 1694,  864,  864,  864,  864], dtype=int64)"
      ]
     },
     "execution_count": 79,
     "metadata": {},
     "output_type": "execute_result"
    }
   ],
   "source": [
    "model.predict(test_x)"
   ]
  },
  {
   "cell_type": "code",
   "execution_count": 94,
   "metadata": {},
   "outputs": [],
   "source": [
    "from sklearn.metrics import accuracy_score"
   ]
  },
  {
   "cell_type": "code",
   "execution_count": 81,
   "metadata": {},
   "outputs": [
    {
     "data": {
      "text/plain": [
       "0.0091324200913242"
      ]
     },
     "execution_count": 81,
     "metadata": {},
     "output_type": "execute_result"
    }
   ],
   "source": [
    "accuracy_score(test_y,model.predict(test_x))"
   ]
  },
  {
   "cell_type": "code",
   "execution_count": 96,
   "metadata": {},
   "outputs": [
    {
     "data": {
      "text/plain": [
       "array([[0, 0, 0, ..., 0, 0, 0],\n",
       "       [0, 0, 0, ..., 0, 0, 0],\n",
       "       [0, 0, 0, ..., 0, 0, 0],\n",
       "       ...,\n",
       "       [0, 0, 0, ..., 0, 0, 0],\n",
       "       [0, 0, 0, ..., 0, 0, 0],\n",
       "       [0, 0, 0, ..., 0, 0, 0]], dtype=int64)"
      ]
     },
     "execution_count": 96,
     "metadata": {},
     "output_type": "execute_result"
    }
   ],
   "source": [
    "conf_mat = confusion_matrix(test_y,model.predict(test_x))\n",
    "conf_mat"
   ]
  },
  {
   "cell_type": "code",
   "execution_count": null,
   "metadata": {},
   "outputs": [],
   "source": []
  },
  {
   "cell_type": "code",
   "execution_count": 97,
   "metadata": {},
   "outputs": [],
   "source": [
    "x=new_df.drop(['GrLivArea','GarageArea'],axis=1)\n",
    "y=df['SalePrice']\n",
    "columns=x.columns"
   ]
  },
  {
   "cell_type": "code",
   "execution_count": 98,
   "metadata": {},
   "outputs": [],
   "source": [
    "from sklearn.svm import SVR\n",
    "svr= SVR(C=10)"
   ]
  },
  {
   "cell_type": "code",
   "execution_count": 99,
   "metadata": {},
   "outputs": [
    {
     "data": {
      "text/plain": [
       "SVR(C=10)"
      ]
     },
     "execution_count": 99,
     "metadata": {},
     "output_type": "execute_result"
    }
   ],
   "source": [
    "svr.fit(train_x, train_y)"
   ]
  },
  {
   "cell_type": "code",
   "execution_count": 100,
   "metadata": {},
   "outputs": [
    {
     "data": {
      "text/plain": [
       "0.48333792894701977"
      ]
     },
     "execution_count": 100,
     "metadata": {},
     "output_type": "execute_result"
    }
   ],
   "source": [
    "from sklearn.metrics import r2_score\n",
    "score= r2_score(test_y,svr.predict(test_x))\n",
    "score"
   ]
  },
  {
   "cell_type": "code",
   "execution_count": 101,
   "metadata": {},
   "outputs": [],
   "source": [
    "from sklearn.model_selection import GridSearchCV\n",
    "param_grid={'C':[0.1,1,10,50,100,500],'gamma':[1,0.5,0.1,0.01,0.001] }\n",
    "grid= GridSearchCV(SVR(),param_grid, verbose=3)"
   ]
  },
  {
   "cell_type": "code",
   "execution_count": 102,
   "metadata": {},
   "outputs": [
    {
     "name": "stdout",
     "output_type": "stream",
     "text": [
      "Fitting 5 folds for each of 30 candidates, totalling 150 fits\n",
      "[CV] C=0.1, gamma=1 ..................................................\n",
      "[CV] ..................... C=0.1, gamma=1, score=-0.008, total=   0.2s\n",
      "[CV] C=0.1, gamma=1 ..................................................\n"
     ]
    },
    {
     "name": "stderr",
     "output_type": "stream",
     "text": [
      "[Parallel(n_jobs=1)]: Using backend SequentialBackend with 1 concurrent workers.\n",
      "[Parallel(n_jobs=1)]: Done   1 out of   1 | elapsed:    0.1s remaining:    0.0s\n"
     ]
    },
    {
     "name": "stdout",
     "output_type": "stream",
     "text": [
      "[CV] ..................... C=0.1, gamma=1, score=-0.014, total=   0.1s\n",
      "[CV] C=0.1, gamma=1 ..................................................\n",
      "[CV] ..................... C=0.1, gamma=1, score=-0.004, total=   0.1s\n",
      "[CV] C=0.1, gamma=1 ..................................................\n"
     ]
    },
    {
     "name": "stderr",
     "output_type": "stream",
     "text": [
      "[Parallel(n_jobs=1)]: Done   2 out of   2 | elapsed:    0.2s remaining:    0.0s\n"
     ]
    },
    {
     "name": "stdout",
     "output_type": "stream",
     "text": [
      "[CV] ..................... C=0.1, gamma=1, score=-0.004, total=   0.1s\n",
      "[CV] C=0.1, gamma=1 ..................................................\n",
      "[CV] ..................... C=0.1, gamma=1, score=-0.014, total=   0.2s\n",
      "[CV] C=0.1, gamma=0.5 ................................................\n",
      "[CV] ................... C=0.1, gamma=0.5, score=-0.008, total=   0.2s\n",
      "[CV] C=0.1, gamma=0.5 ................................................\n",
      "[CV] ................... C=0.1, gamma=0.5, score=-0.014, total=   0.2s\n",
      "[CV] C=0.1, gamma=0.5 ................................................\n",
      "[CV] ................... C=0.1, gamma=0.5, score=-0.004, total=   0.1s\n",
      "[CV] C=0.1, gamma=0.5 ................................................\n",
      "[CV] ................... C=0.1, gamma=0.5, score=-0.004, total=   0.1s\n",
      "[CV] C=0.1, gamma=0.5 ................................................\n",
      "[CV] ................... C=0.1, gamma=0.5, score=-0.014, total=   0.1s\n",
      "[CV] C=0.1, gamma=0.1 ................................................\n",
      "[CV] ................... C=0.1, gamma=0.1, score=-0.008, total=   0.1s\n",
      "[CV] C=0.1, gamma=0.1 ................................................\n",
      "[CV] ................... C=0.1, gamma=0.1, score=-0.014, total=   0.1s\n",
      "[CV] C=0.1, gamma=0.1 ................................................\n",
      "[CV] ................... C=0.1, gamma=0.1, score=-0.004, total=   0.1s\n",
      "[CV] C=0.1, gamma=0.1 ................................................\n",
      "[CV] ................... C=0.1, gamma=0.1, score=-0.004, total=   0.1s\n",
      "[CV] C=0.1, gamma=0.1 ................................................\n",
      "[CV] ................... C=0.1, gamma=0.1, score=-0.014, total=   0.1s\n",
      "[CV] C=0.1, gamma=0.01 ...............................................\n",
      "[CV] .................. C=0.1, gamma=0.01, score=-0.008, total=   0.1s\n",
      "[CV] C=0.1, gamma=0.01 ...............................................\n",
      "[CV] .................. C=0.1, gamma=0.01, score=-0.014, total=   0.1s\n",
      "[CV] C=0.1, gamma=0.01 ...............................................\n",
      "[CV] .................. C=0.1, gamma=0.01, score=-0.004, total=   0.1s\n",
      "[CV] C=0.1, gamma=0.01 ...............................................\n",
      "[CV] .................. C=0.1, gamma=0.01, score=-0.004, total=   0.1s\n",
      "[CV] C=0.1, gamma=0.01 ...............................................\n",
      "[CV] .................. C=0.1, gamma=0.01, score=-0.014, total=   0.1s\n",
      "[CV] C=0.1, gamma=0.001 ..............................................\n",
      "[CV] ................. C=0.1, gamma=0.001, score=-0.008, total=   0.1s\n",
      "[CV] C=0.1, gamma=0.001 ..............................................\n",
      "[CV] ................. C=0.1, gamma=0.001, score=-0.014, total=   0.1s\n",
      "[CV] C=0.1, gamma=0.001 ..............................................\n",
      "[CV] ................. C=0.1, gamma=0.001, score=-0.004, total=   0.1s\n",
      "[CV] C=0.1, gamma=0.001 ..............................................\n",
      "[CV] ................. C=0.1, gamma=0.001, score=-0.004, total=   0.2s\n",
      "[CV] C=0.1, gamma=0.001 ..............................................\n",
      "[CV] ................. C=0.1, gamma=0.001, score=-0.014, total=   0.1s\n",
      "[CV] C=1, gamma=1 ....................................................\n",
      "[CV] ....................... C=1, gamma=1, score=-0.007, total=   0.1s\n",
      "[CV] C=1, gamma=1 ....................................................\n",
      "[CV] ....................... C=1, gamma=1, score=-0.014, total=   0.1s\n",
      "[CV] C=1, gamma=1 ....................................................\n",
      "[CV] ....................... C=1, gamma=1, score=-0.004, total=   0.1s\n",
      "[CV] C=1, gamma=1 ....................................................\n",
      "[CV] ....................... C=1, gamma=1, score=-0.004, total=   0.2s\n",
      "[CV] C=1, gamma=1 ....................................................\n",
      "[CV] ....................... C=1, gamma=1, score=-0.014, total=   0.3s\n",
      "[CV] C=1, gamma=0.5 ..................................................\n",
      "[CV] ..................... C=1, gamma=0.5, score=-0.007, total=   0.1s\n",
      "[CV] C=1, gamma=0.5 ..................................................\n",
      "[CV] ..................... C=1, gamma=0.5, score=-0.014, total=   0.2s\n",
      "[CV] C=1, gamma=0.5 ..................................................\n",
      "[CV] ..................... C=1, gamma=0.5, score=-0.004, total=   0.1s\n",
      "[CV] C=1, gamma=0.5 ..................................................\n",
      "[CV] ..................... C=1, gamma=0.5, score=-0.004, total=   0.1s\n",
      "[CV] C=1, gamma=0.5 ..................................................\n",
      "[CV] ..................... C=1, gamma=0.5, score=-0.014, total=   0.1s\n",
      "[CV] C=1, gamma=0.1 ..................................................\n",
      "[CV] ..................... C=1, gamma=0.1, score=-0.007, total=   0.2s\n",
      "[CV] C=1, gamma=0.1 ..................................................\n",
      "[CV] ..................... C=1, gamma=0.1, score=-0.014, total=   0.2s\n",
      "[CV] C=1, gamma=0.1 ..................................................\n",
      "[CV] ..................... C=1, gamma=0.1, score=-0.004, total=   0.1s\n",
      "[CV] C=1, gamma=0.1 ..................................................\n",
      "[CV] ..................... C=1, gamma=0.1, score=-0.004, total=   0.2s\n",
      "[CV] C=1, gamma=0.1 ..................................................\n",
      "[CV] ..................... C=1, gamma=0.1, score=-0.014, total=   0.1s\n",
      "[CV] C=1, gamma=0.01 .................................................\n",
      "[CV] .................... C=1, gamma=0.01, score=-0.007, total=   0.2s\n",
      "[CV] C=1, gamma=0.01 .................................................\n",
      "[CV] .................... C=1, gamma=0.01, score=-0.014, total=   0.2s\n",
      "[CV] C=1, gamma=0.01 .................................................\n",
      "[CV] .................... C=1, gamma=0.01, score=-0.004, total=   0.1s\n",
      "[CV] C=1, gamma=0.01 .................................................\n",
      "[CV] .................... C=1, gamma=0.01, score=-0.004, total=   0.2s\n",
      "[CV] C=1, gamma=0.01 .................................................\n",
      "[CV] .................... C=1, gamma=0.01, score=-0.014, total=   0.1s\n",
      "[CV] C=1, gamma=0.001 ................................................\n",
      "[CV] ................... C=1, gamma=0.001, score=-0.007, total=   0.2s\n",
      "[CV] C=1, gamma=0.001 ................................................\n",
      "[CV] ................... C=1, gamma=0.001, score=-0.014, total=   0.2s\n",
      "[CV] C=1, gamma=0.001 ................................................\n",
      "[CV] ................... C=1, gamma=0.001, score=-0.004, total=   0.1s\n",
      "[CV] C=1, gamma=0.001 ................................................\n",
      "[CV] ................... C=1, gamma=0.001, score=-0.004, total=   0.2s\n",
      "[CV] C=1, gamma=0.001 ................................................\n",
      "[CV] ................... C=1, gamma=0.001, score=-0.014, total=   0.1s\n",
      "[CV] C=10, gamma=1 ...................................................\n",
      "[CV] ...................... C=10, gamma=1, score=-0.008, total=   0.1s\n",
      "[CV] C=10, gamma=1 ...................................................\n",
      "[CV] ...................... C=10, gamma=1, score=-0.015, total=   0.2s\n",
      "[CV] C=10, gamma=1 ...................................................\n",
      "[CV] ...................... C=10, gamma=1, score=-0.004, total=   0.1s\n",
      "[CV] C=10, gamma=1 ...................................................\n",
      "[CV] ...................... C=10, gamma=1, score=-0.003, total=   0.1s\n",
      "[CV] C=10, gamma=1 ...................................................\n",
      "[CV] ...................... C=10, gamma=1, score=-0.015, total=   0.2s\n",
      "[CV] C=10, gamma=0.5 .................................................\n",
      "[CV] .................... C=10, gamma=0.5, score=-0.008, total=   0.1s\n",
      "[CV] C=10, gamma=0.5 .................................................\n",
      "[CV] .................... C=10, gamma=0.5, score=-0.015, total=   0.1s\n",
      "[CV] C=10, gamma=0.5 .................................................\n",
      "[CV] .................... C=10, gamma=0.5, score=-0.004, total=   0.1s\n",
      "[CV] C=10, gamma=0.5 .................................................\n",
      "[CV] .................... C=10, gamma=0.5, score=-0.003, total=   0.1s\n",
      "[CV] C=10, gamma=0.5 .................................................\n",
      "[CV] .................... C=10, gamma=0.5, score=-0.015, total=   0.1s\n",
      "[CV] C=10, gamma=0.1 .................................................\n",
      "[CV] .................... C=10, gamma=0.1, score=-0.008, total=   0.1s\n",
      "[CV] C=10, gamma=0.1 .................................................\n"
     ]
    },
    {
     "name": "stdout",
     "output_type": "stream",
     "text": [
      "[CV] .................... C=10, gamma=0.1, score=-0.015, total=   0.1s\n",
      "[CV] C=10, gamma=0.1 .................................................\n",
      "[CV] .................... C=10, gamma=0.1, score=-0.004, total=   0.1s\n",
      "[CV] C=10, gamma=0.1 .................................................\n",
      "[CV] .................... C=10, gamma=0.1, score=-0.003, total=   0.1s\n",
      "[CV] C=10, gamma=0.1 .................................................\n",
      "[CV] .................... C=10, gamma=0.1, score=-0.015, total=   0.1s\n",
      "[CV] C=10, gamma=0.01 ................................................\n",
      "[CV] ................... C=10, gamma=0.01, score=-0.008, total=   0.1s\n",
      "[CV] C=10, gamma=0.01 ................................................\n",
      "[CV] ................... C=10, gamma=0.01, score=-0.015, total=   0.1s\n",
      "[CV] C=10, gamma=0.01 ................................................\n",
      "[CV] ................... C=10, gamma=0.01, score=-0.004, total=   0.1s\n",
      "[CV] C=10, gamma=0.01 ................................................\n",
      "[CV] ................... C=10, gamma=0.01, score=-0.003, total=   0.1s\n",
      "[CV] C=10, gamma=0.01 ................................................\n",
      "[CV] ................... C=10, gamma=0.01, score=-0.015, total=   0.1s\n",
      "[CV] C=10, gamma=0.001 ...............................................\n",
      "[CV] .................. C=10, gamma=0.001, score=-0.008, total=   0.1s\n",
      "[CV] C=10, gamma=0.001 ...............................................\n",
      "[CV] .................. C=10, gamma=0.001, score=-0.015, total=   0.1s\n",
      "[CV] C=10, gamma=0.001 ...............................................\n",
      "[CV] .................. C=10, gamma=0.001, score=-0.004, total=   0.1s\n",
      "[CV] C=10, gamma=0.001 ...............................................\n",
      "[CV] .................. C=10, gamma=0.001, score=-0.003, total=   0.1s\n",
      "[CV] C=10, gamma=0.001 ...............................................\n",
      "[CV] .................. C=10, gamma=0.001, score=-0.015, total=   0.1s\n",
      "[CV] C=50, gamma=1 ...................................................\n",
      "[CV] ...................... C=50, gamma=1, score=-0.010, total=   0.1s\n",
      "[CV] C=50, gamma=1 ...................................................\n",
      "[CV] ...................... C=50, gamma=1, score=-0.018, total=   0.1s\n",
      "[CV] C=50, gamma=1 ...................................................\n",
      "[CV] ...................... C=50, gamma=1, score=-0.004, total=   0.1s\n",
      "[CV] C=50, gamma=1 ...................................................\n",
      "[CV] ...................... C=50, gamma=1, score=-0.004, total=   0.1s\n",
      "[CV] C=50, gamma=1 ...................................................\n",
      "[CV] ...................... C=50, gamma=1, score=-0.015, total=   0.1s\n",
      "[CV] C=50, gamma=0.5 .................................................\n",
      "[CV] .................... C=50, gamma=0.5, score=-0.010, total=   0.1s\n",
      "[CV] C=50, gamma=0.5 .................................................\n",
      "[CV] .................... C=50, gamma=0.5, score=-0.018, total=   0.1s\n",
      "[CV] C=50, gamma=0.5 .................................................\n",
      "[CV] .................... C=50, gamma=0.5, score=-0.004, total=   0.1s\n",
      "[CV] C=50, gamma=0.5 .................................................\n",
      "[CV] .................... C=50, gamma=0.5, score=-0.004, total=   0.1s\n",
      "[CV] C=50, gamma=0.5 .................................................\n",
      "[CV] .................... C=50, gamma=0.5, score=-0.015, total=   0.2s\n",
      "[CV] C=50, gamma=0.1 .................................................\n",
      "[CV] .................... C=50, gamma=0.1, score=-0.010, total=   0.2s\n",
      "[CV] C=50, gamma=0.1 .................................................\n",
      "[CV] .................... C=50, gamma=0.1, score=-0.018, total=   0.2s\n",
      "[CV] C=50, gamma=0.1 .................................................\n",
      "[CV] .................... C=50, gamma=0.1, score=-0.004, total=   0.2s\n",
      "[CV] C=50, gamma=0.1 .................................................\n",
      "[CV] .................... C=50, gamma=0.1, score=-0.004, total=   0.1s\n",
      "[CV] C=50, gamma=0.1 .................................................\n",
      "[CV] .................... C=50, gamma=0.1, score=-0.015, total=   0.1s\n",
      "[CV] C=50, gamma=0.01 ................................................\n",
      "[CV] ................... C=50, gamma=0.01, score=-0.010, total=   0.1s\n",
      "[CV] C=50, gamma=0.01 ................................................\n",
      "[CV] ................... C=50, gamma=0.01, score=-0.018, total=   0.2s\n",
      "[CV] C=50, gamma=0.01 ................................................\n",
      "[CV] ................... C=50, gamma=0.01, score=-0.004, total=   0.1s\n",
      "[CV] C=50, gamma=0.01 ................................................\n",
      "[CV] ................... C=50, gamma=0.01, score=-0.004, total=   0.1s\n",
      "[CV] C=50, gamma=0.01 ................................................\n",
      "[CV] ................... C=50, gamma=0.01, score=-0.015, total=   0.1s\n",
      "[CV] C=50, gamma=0.001 ...............................................\n",
      "[CV] .................. C=50, gamma=0.001, score=-0.010, total=   0.1s\n",
      "[CV] C=50, gamma=0.001 ...............................................\n",
      "[CV] .................. C=50, gamma=0.001, score=-0.018, total=   0.1s\n",
      "[CV] C=50, gamma=0.001 ...............................................\n",
      "[CV] .................. C=50, gamma=0.001, score=-0.004, total=   0.1s\n",
      "[CV] C=50, gamma=0.001 ...............................................\n",
      "[CV] .................. C=50, gamma=0.001, score=-0.004, total=   0.1s\n",
      "[CV] C=50, gamma=0.001 ...............................................\n",
      "[CV] .................. C=50, gamma=0.001, score=-0.015, total=   0.2s\n",
      "[CV] C=100, gamma=1 ..................................................\n",
      "[CV] ..................... C=100, gamma=1, score=-0.012, total=   0.2s\n",
      "[CV] C=100, gamma=1 ..................................................\n",
      "[CV] ..................... C=100, gamma=1, score=-0.020, total=   0.1s\n",
      "[CV] C=100, gamma=1 ..................................................\n",
      "[CV] ..................... C=100, gamma=1, score=-0.005, total=   0.1s\n",
      "[CV] C=100, gamma=1 ..................................................\n",
      "[CV] ..................... C=100, gamma=1, score=-0.005, total=   0.1s\n",
      "[CV] C=100, gamma=1 ..................................................\n",
      "[CV] ..................... C=100, gamma=1, score=-0.016, total=   0.1s\n",
      "[CV] C=100, gamma=0.5 ................................................\n",
      "[CV] ................... C=100, gamma=0.5, score=-0.012, total=   0.1s\n",
      "[CV] C=100, gamma=0.5 ................................................\n",
      "[CV] ................... C=100, gamma=0.5, score=-0.020, total=   0.1s\n",
      "[CV] C=100, gamma=0.5 ................................................\n",
      "[CV] ................... C=100, gamma=0.5, score=-0.005, total=   0.1s\n",
      "[CV] C=100, gamma=0.5 ................................................\n",
      "[CV] ................... C=100, gamma=0.5, score=-0.005, total=   0.1s\n",
      "[CV] C=100, gamma=0.5 ................................................\n",
      "[CV] ................... C=100, gamma=0.5, score=-0.016, total=   0.1s\n",
      "[CV] C=100, gamma=0.1 ................................................\n",
      "[CV] ................... C=100, gamma=0.1, score=-0.012, total=   0.1s\n",
      "[CV] C=100, gamma=0.1 ................................................\n",
      "[CV] ................... C=100, gamma=0.1, score=-0.020, total=   0.1s\n",
      "[CV] C=100, gamma=0.1 ................................................\n",
      "[CV] ................... C=100, gamma=0.1, score=-0.005, total=   0.1s\n",
      "[CV] C=100, gamma=0.1 ................................................\n",
      "[CV] ................... C=100, gamma=0.1, score=-0.005, total=   0.1s\n",
      "[CV] C=100, gamma=0.1 ................................................\n",
      "[CV] ................... C=100, gamma=0.1, score=-0.016, total=   0.1s\n",
      "[CV] C=100, gamma=0.01 ...............................................\n",
      "[CV] .................. C=100, gamma=0.01, score=-0.012, total=   0.1s\n",
      "[CV] C=100, gamma=0.01 ...............................................\n",
      "[CV] .................. C=100, gamma=0.01, score=-0.020, total=   0.1s\n",
      "[CV] C=100, gamma=0.01 ...............................................\n",
      "[CV] .................. C=100, gamma=0.01, score=-0.005, total=   0.1s\n",
      "[CV] C=100, gamma=0.01 ...............................................\n",
      "[CV] .................. C=100, gamma=0.01, score=-0.005, total=   0.1s\n",
      "[CV] C=100, gamma=0.01 ...............................................\n",
      "[CV] .................. C=100, gamma=0.01, score=-0.016, total=   0.1s\n",
      "[CV] C=100, gamma=0.001 ..............................................\n"
     ]
    },
    {
     "name": "stdout",
     "output_type": "stream",
     "text": [
      "[CV] ................. C=100, gamma=0.001, score=-0.012, total=   0.1s\n",
      "[CV] C=100, gamma=0.001 ..............................................\n",
      "[CV] ................. C=100, gamma=0.001, score=-0.020, total=   0.1s\n",
      "[CV] C=100, gamma=0.001 ..............................................\n",
      "[CV] ................. C=100, gamma=0.001, score=-0.005, total=   0.2s\n",
      "[CV] C=100, gamma=0.001 ..............................................\n",
      "[CV] ................. C=100, gamma=0.001, score=-0.005, total=   0.2s\n",
      "[CV] C=100, gamma=0.001 ..............................................\n",
      "[CV] ................. C=100, gamma=0.001, score=-0.016, total=   0.1s\n",
      "[CV] C=500, gamma=1 ..................................................\n",
      "[CV] ..................... C=500, gamma=1, score=-0.011, total=   0.2s\n",
      "[CV] C=500, gamma=1 ..................................................\n",
      "[CV] ..................... C=500, gamma=1, score=-0.020, total=   0.2s\n",
      "[CV] C=500, gamma=1 ..................................................\n",
      "[CV] ..................... C=500, gamma=1, score=-0.005, total=   0.2s\n",
      "[CV] C=500, gamma=1 ..................................................\n",
      "[CV] ..................... C=500, gamma=1, score=-0.004, total=   0.2s\n",
      "[CV] C=500, gamma=1 ..................................................\n",
      "[CV] ..................... C=500, gamma=1, score=-0.016, total=   0.2s\n",
      "[CV] C=500, gamma=0.5 ................................................\n",
      "[CV] ................... C=500, gamma=0.5, score=-0.011, total=   0.2s\n",
      "[CV] C=500, gamma=0.5 ................................................\n",
      "[CV] ................... C=500, gamma=0.5, score=-0.020, total=   0.2s\n",
      "[CV] C=500, gamma=0.5 ................................................\n",
      "[CV] ................... C=500, gamma=0.5, score=-0.005, total=   0.2s\n",
      "[CV] C=500, gamma=0.5 ................................................\n",
      "[CV] ................... C=500, gamma=0.5, score=-0.004, total=   0.2s\n",
      "[CV] C=500, gamma=0.5 ................................................\n",
      "[CV] ................... C=500, gamma=0.5, score=-0.016, total=   0.2s\n",
      "[CV] C=500, gamma=0.1 ................................................\n",
      "[CV] ................... C=500, gamma=0.1, score=-0.011, total=   0.3s\n",
      "[CV] C=500, gamma=0.1 ................................................\n",
      "[CV] ................... C=500, gamma=0.1, score=-0.020, total=   0.2s\n",
      "[CV] C=500, gamma=0.1 ................................................\n",
      "[CV] ................... C=500, gamma=0.1, score=-0.005, total=   0.2s\n",
      "[CV] C=500, gamma=0.1 ................................................\n",
      "[CV] ................... C=500, gamma=0.1, score=-0.004, total=   0.2s\n",
      "[CV] C=500, gamma=0.1 ................................................\n",
      "[CV] ................... C=500, gamma=0.1, score=-0.016, total=   0.2s\n",
      "[CV] C=500, gamma=0.01 ...............................................\n",
      "[CV] .................. C=500, gamma=0.01, score=-0.011, total=   0.2s\n",
      "[CV] C=500, gamma=0.01 ...............................................\n",
      "[CV] .................. C=500, gamma=0.01, score=-0.020, total=   0.2s\n",
      "[CV] C=500, gamma=0.01 ...............................................\n",
      "[CV] .................. C=500, gamma=0.01, score=-0.005, total=   0.2s\n",
      "[CV] C=500, gamma=0.01 ...............................................\n",
      "[CV] .................. C=500, gamma=0.01, score=-0.004, total=   0.1s\n",
      "[CV] C=500, gamma=0.01 ...............................................\n",
      "[CV] .................. C=500, gamma=0.01, score=-0.016, total=   0.1s\n",
      "[CV] C=500, gamma=0.001 ..............................................\n",
      "[CV] ................. C=500, gamma=0.001, score=-0.011, total=   0.2s\n",
      "[CV] C=500, gamma=0.001 ..............................................\n",
      "[CV] ................. C=500, gamma=0.001, score=-0.020, total=   0.2s\n",
      "[CV] C=500, gamma=0.001 ..............................................\n",
      "[CV] ................. C=500, gamma=0.001, score=-0.005, total=   0.2s\n",
      "[CV] C=500, gamma=0.001 ..............................................\n",
      "[CV] ................. C=500, gamma=0.001, score=-0.004, total=   0.2s\n",
      "[CV] C=500, gamma=0.001 ..............................................\n",
      "[CV] ................. C=500, gamma=0.001, score=-0.016, total=   0.2s\n"
     ]
    },
    {
     "name": "stderr",
     "output_type": "stream",
     "text": [
      "[Parallel(n_jobs=1)]: Done 150 out of 150 | elapsed:   22.4s finished\n"
     ]
    },
    {
     "data": {
      "text/plain": [
       "GridSearchCV(estimator=SVR(),\n",
       "             param_grid={'C': [0.1, 1, 10, 50, 100, 500],\n",
       "                         'gamma': [1, 0.5, 0.1, 0.01, 0.001]},\n",
       "             verbose=3)"
      ]
     },
     "execution_count": 102,
     "metadata": {},
     "output_type": "execute_result"
    }
   ],
   "source": [
    "grid.fit(train_x,train_y)"
   ]
  },
  {
   "cell_type": "code",
   "execution_count": 106,
   "metadata": {},
   "outputs": [
    {
     "data": {
      "text/plain": [
       "SVR(C=1, gamma=1)"
      ]
     },
     "execution_count": 106,
     "metadata": {},
     "output_type": "execute_result"
    }
   ],
   "source": [
    "grid.best_estimator_"
   ]
  },
  {
   "cell_type": "code",
   "execution_count": 113,
   "metadata": {},
   "outputs": [],
   "source": [
    "svr_new=SVR(C=1, gamma=1, shrinking=True, verbose=False)"
   ]
  },
  {
   "cell_type": "code",
   "execution_count": 114,
   "metadata": {},
   "outputs": [
    {
     "data": {
      "text/plain": [
       "SVR(C=1, gamma=1)"
      ]
     },
     "execution_count": 114,
     "metadata": {},
     "output_type": "execute_result"
    }
   ],
   "source": [
    "svr_new.fit(train_x, train_y)"
   ]
  },
  {
   "cell_type": "code",
   "execution_count": 115,
   "metadata": {},
   "outputs": [
    {
     "data": {
      "text/plain": [
       "-0.005584961871027749"
      ]
     },
     "execution_count": 115,
     "metadata": {},
     "output_type": "execute_result"
    }
   ],
   "source": [
    "score_new= r2_score(test_y,svr_new.predict(test_x))\n",
    "score_new"
   ]
  },
  {
   "cell_type": "code",
   "execution_count": null,
   "metadata": {},
   "outputs": [],
   "source": []
  },
  {
   "cell_type": "code",
   "execution_count": null,
   "metadata": {},
   "outputs": [],
   "source": []
  }
 ],
 "metadata": {
  "kernelspec": {
   "display_name": "Python 3",
   "language": "python",
   "name": "python3"
  },
  "language_info": {
   "codemirror_mode": {
    "name": "ipython",
    "version": 3
   },
   "file_extension": ".py",
   "mimetype": "text/x-python",
   "name": "python",
   "nbconvert_exporter": "python",
   "pygments_lexer": "ipython3",
   "version": "3.8.8"
  }
 },
 "nbformat": 4,
 "nbformat_minor": 4
}
